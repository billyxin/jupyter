{
  "nbformat": 4,
  "nbformat_minor": 0,
  "metadata": {
    "colab": {
      "name": "test1.ipynb",
      "provenance": [],
      "collapsed_sections": [],
      "authorship_tag": "ABX9TyPxWA+5VQCqpf88oItoaSz7",
      "include_colab_link": true
    },
    "kernelspec": {
      "name": "python3",
      "display_name": "Python 3"
    }
  },
  "cells": [
    {
      "cell_type": "markdown",
      "metadata": {
        "id": "view-in-github",
        "colab_type": "text"
      },
      "source": [
        "<a href=\"https://colab.research.google.com/github/billyxin/jupyter/blob/master/test1.ipynb\" target=\"_parent\"><img src=\"https://colab.research.google.com/assets/colab-badge.svg\" alt=\"Open In Colab\"/></a>"
      ]
    },
    {
      "cell_type": "code",
      "metadata": {
        "colab": {
          "base_uri": "https://localhost:8080/"
        },
        "id": "mCFc2mtWw3Zb",
        "outputId": "90198a7d-5ace-462c-f1db-cc4ba1610340"
      },
      "source": [
        "print('gogogo')"
      ],
      "execution_count": 6,
      "outputs": [
        {
          "output_type": "stream",
          "text": [
            "gogogo\n"
          ],
          "name": "stdout"
        }
      ]
    },
    {
      "cell_type": "code",
      "metadata": {
        "id": "Z_9CTEwM5ms6"
      },
      "source": [
        ""
      ],
      "execution_count": null,
      "outputs": []
    },
    {
      "cell_type": "code",
      "metadata": {
        "colab": {
          "base_uri": "https://localhost:8080/",
          "height": 282
        },
        "id": "oEm_uYSrw_8x",
        "outputId": "f3a3bebe-4363-44bf-80f4-2bf95ae07f4c"
      },
      "source": [
        "import numpy as np\r\n",
        "import pandas as pd\r\n",
        "import matplotlib.pyplot as plt\r\n",
        "sps = np.random.standard_normal(10000000)\r\n",
        "\r\n",
        "sps = pd.Series(sps)\r\n",
        "\r\n",
        "bins = pd.cut(sps,100000)\r\n",
        "\r\n",
        "bins_comb = pd.value_counts(bins)\r\n",
        "\r\n",
        "sps_df = pd.DataFrame({'x':list(map(lambda x:x.left,bins_comb.index.tolist())), 'y':bins_comb.tolist()})\r\n",
        "\r\n",
        "plt.scatter(sps_df.x,sps_df.y)"
      ],
      "execution_count": null,
      "outputs": [
        {
          "output_type": "execute_result",
          "data": {
            "text/plain": [
              "<matplotlib.collections.PathCollection at 0x7fed32b02850>"
            ]
          },
          "metadata": {
            "tags": []
          },
          "execution_count": 5
        },
        {
          "output_type": "display_data",
          "data": {
            "image/png": "[encoded data removed]",
            "text/plain": [
              "<Figure size 432x288 with 1 Axes>"
            ]
          },
          "metadata": {
            "tags": [],
            "needs_background": "light"
          }
        }
      ]
    },
    {
      "cell_type": "code",
      "metadata": {
        "colab": {
          "base_uri": "https://localhost:8080/"
        },
        "id": "mbxoObv15q-S",
        "outputId": "8a53dba9-feb4-43d2-f311-3539d617c5ac"
      },
      "source": [
        "import sys\r\n",
        "print(sys.version)\r\n",
        "print(sys.executable)"
      ],
      "execution_count": 7,
      "outputs": [
        {
          "output_type": "stream",
          "text": [
            "3.7.10 (default, Feb 20 2021, 21:17:23) \n",
            "[GCC 7.5.0]\n",
            "/usr/bin/python3\n"
          ],
          "name": "stdout"
        }
      ]
    }
  ]
}